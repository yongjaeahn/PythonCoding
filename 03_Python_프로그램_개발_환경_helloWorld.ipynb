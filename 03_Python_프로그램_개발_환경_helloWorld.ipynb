{
  "nbformat": 4,
  "nbformat_minor": 0,
  "metadata": {
    "colab": {
      "provenance": []
    },
    "kernelspec": {
      "name": "python3",
      "display_name": "Python 3"
    },
    "language_info": {
      "name": "python"
    }
  },
  "cells": [
    {
      "cell_type": "code",
      "execution_count": null,
      "metadata": {
        "colab": {
          "base_uri": "https://localhost:8080/"
        },
        "id": "UhNA7Glgmazf",
        "outputId": "5cc12142-011d-492a-a097-a0a973f4724e"
      },
      "outputs": [
        {
          "output_type": "stream",
          "name": "stdout",
          "text": [
            "Hello world!\n"
          ]
        }
      ],
      "source": [
        "print(\"Hello world!\")"
      ]
    },
    {
      "cell_type": "code",
      "source": [
        "print(\"Hello world!\")"
      ],
      "metadata": {
        "colab": {
          "base_uri": "https://localhost:8080/"
        },
        "id": "zT4PM4Qippmf",
        "outputId": "aae6a975-2a3f-4087-818a-921ed15d5c13"
      },
      "execution_count": null,
      "outputs": [
        {
          "output_type": "stream",
          "name": "stdout",
          "text": [
            "Hello world!\n"
          ]
        }
      ]
    },
    {
      "cell_type": "markdown",
      "source": [
        "대부분의 프로그래밍 언어에서는 프로그램을 가르치기 위하여 컴퓨터의 화면에 “Hello world!”라는 문자열을 보여주는 가장 간단한 예제 프로그램을 제시합니다. "
      ],
      "metadata": {
        "id": "MnMIZZrlsOC6"
      }
    }
  ]
}