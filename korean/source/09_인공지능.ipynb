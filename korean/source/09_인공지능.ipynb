{
  "nbformat": 4,
  "nbformat_minor": 0,
  "metadata": {
    "colab": {
      "provenance": [],
      "authorship_tag": "ABX9TyMYRSWFLO+Mjf4nscS0GiE3",
      "include_colab_link": true
    },
    "kernelspec": {
      "name": "python3",
      "display_name": "Python 3"
    },
    "language_info": {
      "name": "python"
    }
  },
  "cells": [
    {
      "cell_type": "markdown",
      "metadata": {
        "id": "view-in-github",
        "colab_type": "text"
      },
      "source": [
        "<a href=\"https://colab.research.google.com/github/yongjaeahn/PythonCoding/blob/main/korean/source/09_%EC%9D%B8%EA%B3%B5%EC%A7%80%EB%8A%A5.ipynb\" target=\"_parent\"><img src=\"https://colab.research.google.com/assets/colab-badge.svg\" alt=\"Open In Colab\"/></a>"
      ]
    },
    {
      "cell_type": "markdown",
      "source": [
        "\t회귀분석"
      ],
      "metadata": {
        "id": "gl0hcNJAN1kG"
      }
    },
    {
      "cell_type": "markdown",
      "source": [
        "데이터 수집"
      ],
      "metadata": {
        "id": "zcCr5L2s5GXQ"
      }
    },
    {
      "cell_type": "code",
      "execution_count": 5,
      "metadata": {
        "colab": {
          "base_uri": "https://localhost:8080/"
        },
        "id": "jjdBbkhLy1Ey",
        "outputId": "9cee2fe1-f355-4b62-a9a6-10660b5bdc74"
      },
      "outputs": [
        {
          "output_type": "stream",
          "name": "stdout",
          "text": [
            "<class 'sklearn.utils._bunch.Bunch'>\n",
            "['DESCR', 'data', 'data_filename', 'data_module', 'feature_names', 'frame', 'target', 'target_filename']\n"
          ]
        }
      ],
      "source": [
        "from sklearn.datasets import load_diabetes\n",
        "\n",
        "diabetes = load_diabetes()\n",
        "\n",
        "print(type(diabetes))\n",
        "print(dir(diabetes))"
      ]
    },
    {
      "cell_type": "code",
      "source": [
        "print(diabetes.DESCR)"
      ],
      "metadata": {
        "id": "s_s10_Bz5kEX",
        "outputId": "b377f39d-c0ec-4ef7-c2a9-9689148d14c8",
        "colab": {
          "base_uri": "https://localhost:8080/"
        }
      },
      "execution_count": 6,
      "outputs": [
        {
          "output_type": "stream",
          "name": "stdout",
          "text": [
            ".. _diabetes_dataset:\n",
            "\n",
            "Diabetes dataset\n",
            "----------------\n",
            "\n",
            "Ten baseline variables, age, sex, body mass index, average blood\n",
            "pressure, and six blood serum measurements were obtained for each of n =\n",
            "442 diabetes patients, as well as the response of interest, a\n",
            "quantitative measure of disease progression one year after baseline.\n",
            "\n",
            "**Data Set Characteristics:**\n",
            "\n",
            "  :Number of Instances: 442\n",
            "\n",
            "  :Number of Attributes: First 10 columns are numeric predictive values\n",
            "\n",
            "  :Target: Column 11 is a quantitative measure of disease progression one year after baseline\n",
            "\n",
            "  :Attribute Information:\n",
            "      - age     age in years\n",
            "      - sex\n",
            "      - bmi     body mass index\n",
            "      - bp      average blood pressure\n",
            "      - s1      tc, total serum cholesterol\n",
            "      - s2      ldl, low-density lipoproteins\n",
            "      - s3      hdl, high-density lipoproteins\n",
            "      - s4      tch, total cholesterol / HDL\n",
            "      - s5      ltg, possibly log of serum triglycerides level\n",
            "      - s6      glu, blood sugar level\n",
            "\n",
            "Note: Each of these 10 feature variables have been mean centered and scaled by the standard deviation times the square root of `n_samples` (i.e. the sum of squares of each column totals 1).\n",
            "\n",
            "Source URL:\n",
            "https://www4.stat.ncsu.edu/~boos/var.select/diabetes.html\n",
            "\n",
            "For more information see:\n",
            "Bradley Efron, Trevor Hastie, Iain Johnstone and Robert Tibshirani (2004) \"Least Angle Regression,\" Annals of Statistics (with discussion), 407-499.\n",
            "(https://web.stanford.edu/~hastie/Papers/LARS/LeastAngle_2002.pdf)\n",
            "\n"
          ]
        }
      ]
    },
    {
      "cell_type": "code",
      "source": [
        "help(load_diabetes)"
      ],
      "metadata": {
        "id": "_-I3EhgROFW-",
        "outputId": "9eb4dc21-76ba-4389-d5ec-b5a4c14da66a",
        "colab": {
          "base_uri": "https://localhost:8080/"
        }
      },
      "execution_count": 9,
      "outputs": [
        {
          "output_type": "stream",
          "name": "stdout",
          "text": [
            "Help on function load_diabetes in module sklearn.datasets._base:\n",
            "\n",
            "load_diabetes(*, return_X_y=False, as_frame=False, scaled=True)\n",
            "    Load and return the diabetes dataset (regression).\n",
            "    \n",
            "    ==============   ==================\n",
            "    Samples total    442\n",
            "    Dimensionality   10\n",
            "    Features         real, -.2 < x < .2\n",
            "    Targets          integer 25 - 346\n",
            "    ==============   ==================\n",
            "    \n",
            "    .. note::\n",
            "       The meaning of each feature (i.e. `feature_names`) might be unclear\n",
            "       (especially for `ltg`) as the documentation of the original dataset is\n",
            "       not explicit. We provide information that seems correct in regard with\n",
            "       the scientific literature in this field of research.\n",
            "    \n",
            "    Read more in the :ref:`User Guide <diabetes_dataset>`.\n",
            "    \n",
            "    Parameters\n",
            "    ----------\n",
            "    return_X_y : bool, default=False\n",
            "        If True, returns ``(data, target)`` instead of a Bunch object.\n",
            "        See below for more information about the `data` and `target` object.\n",
            "    \n",
            "        .. versionadded:: 0.18\n",
            "    \n",
            "    as_frame : bool, default=False\n",
            "        If True, the data is a pandas DataFrame including columns with\n",
            "        appropriate dtypes (numeric). The target is\n",
            "        a pandas DataFrame or Series depending on the number of target columns.\n",
            "        If `return_X_y` is True, then (`data`, `target`) will be pandas\n",
            "        DataFrames or Series as described below.\n",
            "    \n",
            "        .. versionadded:: 0.23\n",
            "    \n",
            "    scaled : bool, default=True\n",
            "        If True, the feature variables are mean centered and scaled by the\n",
            "        standard deviation times the square root of `n_samples`.\n",
            "        If False, raw data is returned for the feature variables.\n",
            "    \n",
            "        .. versionadded:: 1.1\n",
            "    \n",
            "    Returns\n",
            "    -------\n",
            "    data : :class:`~sklearn.utils.Bunch`\n",
            "        Dictionary-like object, with the following attributes.\n",
            "    \n",
            "        data : {ndarray, dataframe} of shape (442, 10)\n",
            "            The data matrix. If `as_frame=True`, `data` will be a pandas\n",
            "            DataFrame.\n",
            "        target: {ndarray, Series} of shape (442,)\n",
            "            The regression target. If `as_frame=True`, `target` will be\n",
            "            a pandas Series.\n",
            "        feature_names: list\n",
            "            The names of the dataset columns.\n",
            "        frame: DataFrame of shape (442, 11)\n",
            "            Only present when `as_frame=True`. DataFrame with `data` and\n",
            "            `target`.\n",
            "    \n",
            "            .. versionadded:: 0.23\n",
            "        DESCR: str\n",
            "            The full description of the dataset.\n",
            "        data_filename: str\n",
            "            The path to the location of the data.\n",
            "        target_filename: str\n",
            "            The path to the location of the target.\n",
            "    \n",
            "    (data, target) : tuple if ``return_X_y`` is True\n",
            "        Returns a tuple of two ndarray of shape (n_samples, n_features)\n",
            "        A 2D array with each row representing one sample and each column\n",
            "        representing the features and/or target of a given sample.\n",
            "    \n",
            "        .. versionadded:: 0.18\n",
            "\n"
          ]
        }
      ]
    },
    {
      "cell_type": "markdown",
      "source": [
        "데이터 전처리"
      ],
      "metadata": {
        "id": "nd8Y6H4yqhFJ"
      }
    },
    {
      "cell_type": "code",
      "source": [
        "print(diabetes.feature_names)"
      ],
      "metadata": {
        "id": "UX7ZB_3Nrwcn",
        "outputId": "6873b54a-4e0a-4a7c-b90e-f541d17832c0",
        "colab": {
          "base_uri": "https://localhost:8080/"
        }
      },
      "execution_count": 20,
      "outputs": [
        {
          "output_type": "stream",
          "name": "stdout",
          "text": [
            "['age', 'sex', 'bmi', 'bp', 's1', 's2', 's3', 's4', 's5', 's6']\n"
          ]
        }
      ]
    },
    {
      "cell_type": "code",
      "source": [
        "print(diabetes.data[0:3])\n",
        "print(diabetes.data[-1:-3:-1])"
      ],
      "metadata": {
        "id": "aUTTi04Qos8o",
        "outputId": "d8cb2441-c4f9-4a9c-fb81-1e9004c0e49c",
        "colab": {
          "base_uri": "https://localhost:8080/"
        }
      },
      "execution_count": 21,
      "outputs": [
        {
          "output_type": "stream",
          "name": "stdout",
          "text": [
            "[[ 0.03807591  0.05068012  0.06169621  0.02187239 -0.0442235  -0.03482076\n",
            "  -0.04340085 -0.00259226  0.01990749 -0.01764613]\n",
            " [-0.00188202 -0.04464164 -0.05147406 -0.02632753 -0.00844872 -0.01916334\n",
            "   0.07441156 -0.03949338 -0.06833155 -0.09220405]\n",
            " [ 0.08529891  0.05068012  0.04445121 -0.00567042 -0.04559945 -0.03419447\n",
            "  -0.03235593 -0.00259226  0.00286131 -0.02593034]]\n",
            "[[-0.04547248 -0.04464164 -0.0730303  -0.08141314  0.08374012  0.02780893\n",
            "   0.17381578 -0.03949338 -0.00422151  0.00306441]\n",
            " [-0.04547248 -0.04464164  0.03906215  0.00121528  0.01631843  0.01528299\n",
            "  -0.02867429  0.02655962  0.04452873 -0.02593034]]\n"
          ]
        }
      ]
    },
    {
      "cell_type": "code",
      "source": [
        "print(diabetes.target[0:3])\n",
        "print(diabetes.target[-1:-3:-1])"
      ],
      "metadata": {
        "id": "cK3P_FdKq2iB",
        "outputId": "ae31924b-0038-425d-94fd-872822d7c978",
        "colab": {
          "base_uri": "https://localhost:8080/"
        }
      },
      "execution_count": 23,
      "outputs": [
        {
          "output_type": "stream",
          "name": "stdout",
          "text": [
            "[151.  75. 141.]\n",
            "[ 57. 220.]\n"
          ]
        }
      ]
    },
    {
      "cell_type": "markdown",
      "source": [
        "모델 학습"
      ],
      "metadata": {
        "id": "V3iEKtORz83b"
      }
    },
    {
      "cell_type": "code",
      "source": [
        "from sklearn.linear_model import LinearRegression\n",
        "\n",
        "model = LinearRegression()\n",
        "model.fit(diabetes.data,diabetes.target)"
      ],
      "metadata": {
        "id": "RO7k6q0Fz_Yo",
        "outputId": "01a63d27-0c9b-47a5-faf7-12332ab45d60",
        "colab": {
          "base_uri": "https://localhost:8080/",
          "height": 74
        }
      },
      "execution_count": 24,
      "outputs": [
        {
          "output_type": "execute_result",
          "data": {
            "text/plain": [
              "LinearRegression()"
            ],
            "text/html": [
              "<style>#sk-container-id-1 {color: black;background-color: white;}#sk-container-id-1 pre{padding: 0;}#sk-container-id-1 div.sk-toggleable {background-color: white;}#sk-container-id-1 label.sk-toggleable__label {cursor: pointer;display: block;width: 100%;margin-bottom: 0;padding: 0.3em;box-sizing: border-box;text-align: center;}#sk-container-id-1 label.sk-toggleable__label-arrow:before {content: \"▸\";float: left;margin-right: 0.25em;color: #696969;}#sk-container-id-1 label.sk-toggleable__label-arrow:hover:before {color: black;}#sk-container-id-1 div.sk-estimator:hover label.sk-toggleable__label-arrow:before {color: black;}#sk-container-id-1 div.sk-toggleable__content {max-height: 0;max-width: 0;overflow: hidden;text-align: left;background-color: #f0f8ff;}#sk-container-id-1 div.sk-toggleable__content pre {margin: 0.2em;color: black;border-radius: 0.25em;background-color: #f0f8ff;}#sk-container-id-1 input.sk-toggleable__control:checked~div.sk-toggleable__content {max-height: 200px;max-width: 100%;overflow: auto;}#sk-container-id-1 input.sk-toggleable__control:checked~label.sk-toggleable__label-arrow:before {content: \"▾\";}#sk-container-id-1 div.sk-estimator input.sk-toggleable__control:checked~label.sk-toggleable__label {background-color: #d4ebff;}#sk-container-id-1 div.sk-label input.sk-toggleable__control:checked~label.sk-toggleable__label {background-color: #d4ebff;}#sk-container-id-1 input.sk-hidden--visually {border: 0;clip: rect(1px 1px 1px 1px);clip: rect(1px, 1px, 1px, 1px);height: 1px;margin: -1px;overflow: hidden;padding: 0;position: absolute;width: 1px;}#sk-container-id-1 div.sk-estimator {font-family: monospace;background-color: #f0f8ff;border: 1px dotted black;border-radius: 0.25em;box-sizing: border-box;margin-bottom: 0.5em;}#sk-container-id-1 div.sk-estimator:hover {background-color: #d4ebff;}#sk-container-id-1 div.sk-parallel-item::after {content: \"\";width: 100%;border-bottom: 1px solid gray;flex-grow: 1;}#sk-container-id-1 div.sk-label:hover label.sk-toggleable__label {background-color: #d4ebff;}#sk-container-id-1 div.sk-serial::before {content: \"\";position: absolute;border-left: 1px solid gray;box-sizing: border-box;top: 0;bottom: 0;left: 50%;z-index: 0;}#sk-container-id-1 div.sk-serial {display: flex;flex-direction: column;align-items: center;background-color: white;padding-right: 0.2em;padding-left: 0.2em;position: relative;}#sk-container-id-1 div.sk-item {position: relative;z-index: 1;}#sk-container-id-1 div.sk-parallel {display: flex;align-items: stretch;justify-content: center;background-color: white;position: relative;}#sk-container-id-1 div.sk-item::before, #sk-container-id-1 div.sk-parallel-item::before {content: \"\";position: absolute;border-left: 1px solid gray;box-sizing: border-box;top: 0;bottom: 0;left: 50%;z-index: -1;}#sk-container-id-1 div.sk-parallel-item {display: flex;flex-direction: column;z-index: 1;position: relative;background-color: white;}#sk-container-id-1 div.sk-parallel-item:first-child::after {align-self: flex-end;width: 50%;}#sk-container-id-1 div.sk-parallel-item:last-child::after {align-self: flex-start;width: 50%;}#sk-container-id-1 div.sk-parallel-item:only-child::after {width: 0;}#sk-container-id-1 div.sk-dashed-wrapped {border: 1px dashed gray;margin: 0 0.4em 0.5em 0.4em;box-sizing: border-box;padding-bottom: 0.4em;background-color: white;}#sk-container-id-1 div.sk-label label {font-family: monospace;font-weight: bold;display: inline-block;line-height: 1.2em;}#sk-container-id-1 div.sk-label-container {text-align: center;}#sk-container-id-1 div.sk-container {/* jupyter's `normalize.less` sets `[hidden] { display: none; }` but bootstrap.min.css set `[hidden] { display: none !important; }` so we also need the `!important` here to be able to override the default hidden behavior on the sphinx rendered scikit-learn.org. See: https://github.com/scikit-learn/scikit-learn/issues/21755 */display: inline-block !important;position: relative;}#sk-container-id-1 div.sk-text-repr-fallback {display: none;}</style><div id=\"sk-container-id-1\" class=\"sk-top-container\"><div class=\"sk-text-repr-fallback\"><pre>LinearRegression()</pre><b>In a Jupyter environment, please rerun this cell to show the HTML representation or trust the notebook. <br />On GitHub, the HTML representation is unable to render, please try loading this page with nbviewer.org.</b></div><div class=\"sk-container\" hidden><div class=\"sk-item\"><div class=\"sk-estimator sk-toggleable\"><input class=\"sk-toggleable__control sk-hidden--visually\" id=\"sk-estimator-id-1\" type=\"checkbox\" checked><label for=\"sk-estimator-id-1\" class=\"sk-toggleable__label sk-toggleable__label-arrow\">LinearRegression</label><div class=\"sk-toggleable__content\"><pre>LinearRegression()</pre></div></div></div></div></div>"
            ]
          },
          "metadata": {},
          "execution_count": 24
        }
      ]
    },
    {
      "cell_type": "markdown",
      "source": [
        "모델 예측"
      ],
      "metadata": {
        "id": "4PFLQ-J269q7"
      }
    },
    {
      "cell_type": "code",
      "source": [
        "print('1년 후 당뇨병 진행의 정량적 측정치 예측을 위한 10개의 독립변수 :\\n', diabetes.data[0:3])\n",
        "yPrediction = model.predict(diabetes.data[0:3])\n",
        "\n",
        "print('회귀분석 모델로 예측한 1년 후 당뇨병 진행의 정량적 측정치:', yPrediction)\n",
        "print('회귀분석 모델에 사용된 1년 후 당뇨병 진행의 정량적 측정치:', diabetes.target[0:3])"
      ],
      "metadata": {
        "id": "kOecf0X168t0",
        "outputId": "ab895924-1d74-4728-f3d0-ab76b09f9f12",
        "colab": {
          "base_uri": "https://localhost:8080/"
        }
      },
      "execution_count": 32,
      "outputs": [
        {
          "output_type": "stream",
          "name": "stdout",
          "text": [
            "1년 후 당뇨병 진행의 정량적 측정치 예측을 위한 10개의 독립변수 :\n",
            " [[ 0.03807591  0.05068012  0.06169621  0.02187239 -0.0442235  -0.03482076\n",
            "  -0.04340085 -0.00259226  0.01990749 -0.01764613]\n",
            " [-0.00188202 -0.04464164 -0.05147406 -0.02632753 -0.00844872 -0.01916334\n",
            "   0.07441156 -0.03949338 -0.06833155 -0.09220405]\n",
            " [ 0.08529891  0.05068012  0.04445121 -0.00567042 -0.04559945 -0.03419447\n",
            "  -0.03235593 -0.00259226  0.00286131 -0.02593034]]\n",
            "회귀분석 모델로 예측한 1년 후 당뇨병 진행의 정량적 측정치: [206.11667725  68.07103297 176.88279035]\n",
            "회귀분석 모델에 사용된 1년 후 당뇨병 진행의 정량적 측정치: [151.  75. 141.]\n"
          ]
        }
      ]
    },
    {
      "cell_type": "code",
      "source": [
        "from sklearn.datasets import load_diabetes\n",
        "from sklearn.linear_model import LinearRegression\n",
        "\n",
        "# 데이터 수집 및 전처리\n",
        "diabetes = load_diabetes()\n",
        "\n",
        "# 모델 학습\n",
        "model = LinearRegression()\n",
        "model.fit(diabetes.data,diabetes.target)\n",
        "\n",
        "# 모델 예측\n",
        "yPrediction = model.predict(diabetes.data[0:3])\n",
        "print('회귀분석 모델로 예측한 1년 후 당뇨병 진행의 정량적 측정치:', yPrediction)"
      ],
      "metadata": {
        "id": "HRRYAfQCBSnR",
        "outputId": "ac6eb516-b22f-401f-ac70-7421314ce1e5",
        "colab": {
          "base_uri": "https://localhost:8080/"
        }
      },
      "execution_count": 33,
      "outputs": [
        {
          "output_type": "stream",
          "name": "stdout",
          "text": [
            "회귀분석 모델로 예측한 1년 후 당뇨병 진행의 정량적 측정치: [206.11667725  68.07103297 176.88279035]\n"
          ]
        }
      ]
    },
    {
      "cell_type": "code",
      "source": [
        "from sklearn.datasets import load_diabetes\n",
        "from sklearn.linear_model import LinearRegression\n",
        "\n",
        "# 데이터 수집 및 전처리\n",
        "diabetes = load_diabetes(as_frame=True)\n",
        "\n",
        "# 모델 학습\n",
        "model = LinearRegression()\n",
        "model.fit(diabetes.data,diabetes.target)\n",
        "\n",
        "# 모델 예측\n",
        "yPrediction = model.predict(diabetes.data[0:3])\n",
        "print('회귀분석 모델로 예측한 1년 후 당뇨병 진행의 정량적 측정치:', yPrediction)"
      ],
      "metadata": {
        "id": "K_h1FsQ8C4Lz",
        "outputId": "7e4f9cd8-4678-47d2-c47c-401245408e00",
        "colab": {
          "base_uri": "https://localhost:8080/"
        }
      },
      "execution_count": 34,
      "outputs": [
        {
          "output_type": "stream",
          "name": "stdout",
          "text": [
            "회귀분석 모델로 예측한 1년 후 당뇨병 진행의 정량적 측정치: [206.11667725  68.07103297 176.88279035]\n"
          ]
        }
      ]
    }
  ]
}